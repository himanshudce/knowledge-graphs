{
 "cells": [
  {
   "cell_type": "code",
   "execution_count": 52,
   "id": "8ede258f",
   "metadata": {},
   "outputs": [],
   "source": [
    "# import libraries\n",
    "from rdflib import Graph,Literal,RDF,URIRef\n",
    "from rdflib.namespace import FOAF,XSD,RDFS\n",
    "from rdflib import Namespace\n",
    "import pandas as pd"
   ]
  },
  {
   "cell_type": "code",
   "execution_count": 53,
   "id": "381b3883",
   "metadata": {},
   "outputs": [],
   "source": [
    "g = Graph()"
   ]
  },
  {
   "cell_type": "code",
   "execution_count": 54,
   "id": "acf5228a",
   "metadata": {},
   "outputs": [],
   "source": [
    "KG_SDM = Namespace(\"http://kg_sdm.org/\")\n",
    "g.bind(\"kg_sdm\",KG_SDM) # the uri will be repliced"
   ]
  },
  {
   "cell_type": "code",
   "execution_count": 55,
   "id": "192ac3d0",
   "metadata": {},
   "outputs": [],
   "source": [
    "# Author subclass Person\n",
    "# Author: school\n",
    "# Person: name\n",
    "# Create a table of names and schools which will be later sliced to Author, Editor etc."
   ]
  },
  {
   "cell_type": "code",
   "execution_count": 56,
   "id": "d809e9d0",
   "metadata": {},
   "outputs": [],
   "source": [
    "people_names = pd.read_csv('data_kg_sdm/authors.csv')\n",
    "people_names = people_names.drop(columns='ID')\n",
    "people_names.rename(columns = {'name':'person_name'}, inplace=True)"
   ]
  },
  {
   "cell_type": "code",
   "execution_count": 57,
   "id": "b3841c17",
   "metadata": {},
   "outputs": [],
   "source": [
    "schools = pd.read_csv('data_kg_sdm/schools.csv')\n",
    "schools = schools.drop(columns='ID')\n",
    "schools.rename(columns = {'name':'school_name'}, inplace=True)"
   ]
  },
  {
   "cell_type": "code",
   "execution_count": 58,
   "id": "90a42660",
   "metadata": {},
   "outputs": [
    {
     "name": "stderr",
     "output_type": "stream",
     "text": [
      "/tmp/ipykernel_79252/2655002278.py:2: SettingWithCopyWarning: \n",
      "A value is trying to be set on a copy of a slice from a DataFrame.\n",
      "Try using .loc[row_indexer,col_indexer] = value instead\n",
      "\n",
      "See the caveats in the documentation: https://pandas.pydata.org/pandas-docs/stable/user_guide/indexing.html#returning-a-view-versus-a-copy\n",
      "  academics['school_name'] = schools\n"
     ]
    }
   ],
   "source": [
    "academics = people_names.loc[:schools.size-1]\n",
    "academics['school_name'] = schools"
   ]
  },
  {
   "cell_type": "code",
   "execution_count": 59,
   "id": "5727bb14",
   "metadata": {},
   "outputs": [
    {
     "data": {
      "text/html": [
       "<div>\n",
       "<style scoped>\n",
       "    .dataframe tbody tr th:only-of-type {\n",
       "        vertical-align: middle;\n",
       "    }\n",
       "\n",
       "    .dataframe tbody tr th {\n",
       "        vertical-align: top;\n",
       "    }\n",
       "\n",
       "    .dataframe thead th {\n",
       "        text-align: right;\n",
       "    }\n",
       "</style>\n",
       "<table border=\"1\" class=\"dataframe\">\n",
       "  <thead>\n",
       "    <tr style=\"text-align: right;\">\n",
       "      <th></th>\n",
       "      <th>person_name</th>\n",
       "      <th>school_name</th>\n",
       "    </tr>\n",
       "  </thead>\n",
       "  <tbody>\n",
       "    <tr>\n",
       "      <th>0</th>\n",
       "      <td>Gautam A.</td>\n",
       "      <td>Computer Science Department, Brigham Young Uni...</td>\n",
       "    </tr>\n",
       "    <tr>\n",
       "      <th>1</th>\n",
       "      <td>Crandall J.W.</td>\n",
       "      <td>INESC-TEC Technology and Science, Campus da FE...</td>\n",
       "    </tr>\n",
       "    <tr>\n",
       "      <th>2</th>\n",
       "      <td>Goodrich M.A.</td>\n",
       "      <td>Department of Engineering, University of Trás...</td>\n",
       "    </tr>\n",
       "    <tr>\n",
       "      <th>3</th>\n",
       "      <td>de Moura Oliveira P.B.</td>\n",
       "      <td>Department of Chemical Engineering, Brigham Y...</td>\n",
       "    </tr>\n",
       "    <tr>\n",
       "      <th>4</th>\n",
       "      <td>Hedengren J.D.</td>\n",
       "      <td>Task Committee Secretary and Lead Engineer, Op...</td>\n",
       "    </tr>\n",
       "    <tr>\n",
       "      <th>...</th>\n",
       "      <td>...</td>\n",
       "      <td>...</td>\n",
       "    </tr>\n",
       "    <tr>\n",
       "      <th>1456</th>\n",
       "      <td>Hedges D.M.</td>\n",
       "      <td>United States Department of Agriculture-Agric...</td>\n",
       "    </tr>\n",
       "    <tr>\n",
       "      <th>1457</th>\n",
       "      <td>Steffensen S.C.</td>\n",
       "      <td>United States Department of Agriculture-Agric...</td>\n",
       "    </tr>\n",
       "    <tr>\n",
       "      <th>1458</th>\n",
       "      <td>Puleo C.</td>\n",
       "      <td>Agriculture and Agri-Food Canada, Lethbridge,...</td>\n",
       "    </tr>\n",
       "    <tr>\n",
       "      <th>1459</th>\n",
       "      <td>Galligan C.</td>\n",
       "      <td>Department of Crop and Soil Sciences, Washing...</td>\n",
       "    </tr>\n",
       "    <tr>\n",
       "      <th>1460</th>\n",
       "      <td>Ashe J.</td>\n",
       "      <td>Columbia Basin Agricultural Research Center, ...</td>\n",
       "    </tr>\n",
       "  </tbody>\n",
       "</table>\n",
       "<p>1461 rows × 2 columns</p>\n",
       "</div>"
      ],
      "text/plain": [
       "                 person_name  \\\n",
       "0                  Gautam A.   \n",
       "1              Crandall J.W.   \n",
       "2              Goodrich M.A.   \n",
       "3     de Moura Oliveira P.B.   \n",
       "4             Hedengren J.D.   \n",
       "...                      ...   \n",
       "1456             Hedges D.M.   \n",
       "1457         Steffensen S.C.   \n",
       "1458                Puleo C.   \n",
       "1459             Galligan C.   \n",
       "1460                 Ashe J.   \n",
       "\n",
       "                                            school_name  \n",
       "0     Computer Science Department, Brigham Young Uni...  \n",
       "1     INESC-TEC Technology and Science, Campus da FE...  \n",
       "2      Department of Engineering, University of Trás...  \n",
       "3      Department of Chemical Engineering, Brigham Y...  \n",
       "4     Task Committee Secretary and Lead Engineer, Op...  \n",
       "...                                                 ...  \n",
       "1456   United States Department of Agriculture-Agric...  \n",
       "1457   United States Department of Agriculture-Agric...  \n",
       "1458   Agriculture and Agri-Food Canada, Lethbridge,...  \n",
       "1459   Department of Crop and Soil Sciences, Washing...  \n",
       "1460   Columbia Basin Agricultural Research Center, ...  \n",
       "\n",
       "[1461 rows x 2 columns]"
      ]
     },
     "execution_count": 59,
     "metadata": {},
     "output_type": "execute_result"
    }
   ],
   "source": [
    "academics"
   ]
  },
  {
   "cell_type": "code",
   "execution_count": 60,
   "id": "759197a2",
   "metadata": {},
   "outputs": [],
   "source": [
    "# We suppose 60% are Authors, 20% Reviewsrs, 10% Chair or Editor"
   ]
  },
  {
   "cell_type": "code",
   "execution_count": 61,
   "id": "ea25d8af",
   "metadata": {},
   "outputs": [],
   "source": [
    "total = len(academics)\n",
    "nb_auth = int(total * 0.6)\n",
    "nb_rev = int(total * 0.2)\n",
    "nb_chair_editor = int(total * 0.1)"
   ]
  },
  {
   "cell_type": "code",
   "execution_count": 62,
   "id": "998164a8",
   "metadata": {},
   "outputs": [],
   "source": [
    "authors = academics.loc[:nb_auth]\n",
    "reviewers = academics.loc[nb_auth : nb_auth + nb_rev]\n",
    "chair = academics.loc[nb_auth + nb_rev : nb_auth + nb_rev + nb_chair_editor ]\n",
    "editor = academics.loc[ nb_auth + nb_rev + nb_chair_editor :nb_auth + nb_rev + nb_chair_editor + nb_chair_editor]"
   ]
  },
  {
   "cell_type": "code",
   "execution_count": 63,
   "id": "432493b7",
   "metadata": {},
   "outputs": [
    {
     "data": {
      "text/html": [
       "<div>\n",
       "<style scoped>\n",
       "    .dataframe tbody tr th:only-of-type {\n",
       "        vertical-align: middle;\n",
       "    }\n",
       "\n",
       "    .dataframe tbody tr th {\n",
       "        vertical-align: top;\n",
       "    }\n",
       "\n",
       "    .dataframe thead th {\n",
       "        text-align: right;\n",
       "    }\n",
       "</style>\n",
       "<table border=\"1\" class=\"dataframe\">\n",
       "  <thead>\n",
       "    <tr style=\"text-align: right;\">\n",
       "      <th></th>\n",
       "      <th>person_name</th>\n",
       "      <th>school_name</th>\n",
       "    </tr>\n",
       "  </thead>\n",
       "  <tbody>\n",
       "    <tr>\n",
       "      <th>1314</th>\n",
       "      <td>Choudhury D.</td>\n",
       "      <td>Department of Architecture, Building and Plan...</td>\n",
       "    </tr>\n",
       "    <tr>\n",
       "      <th>1315</th>\n",
       "      <td>Chanda A.</td>\n",
       "      <td>ISISE, University of Minho, Department of Civ...</td>\n",
       "    </tr>\n",
       "    <tr>\n",
       "      <th>1316</th>\n",
       "      <td>Ruchti T.</td>\n",
       "      <td>Utah State University, ENGR 419J, Logan, UT  8...</td>\n",
       "    </tr>\n",
       "    <tr>\n",
       "      <th>1317</th>\n",
       "      <td>Upchurch W.</td>\n",
       "      <td>Naval Undersea Warfare Center, Newport, RI, U...</td>\n",
       "    </tr>\n",
       "    <tr>\n",
       "      <th>1318</th>\n",
       "      <td>Lee J.H.</td>\n",
       "      <td>Pennsylvania State University, State College,...</td>\n",
       "    </tr>\n",
       "  </tbody>\n",
       "</table>\n",
       "</div>"
      ],
      "text/plain": [
       "       person_name                                        school_name\n",
       "1314  Choudhury D.   Department of Architecture, Building and Plan...\n",
       "1315     Chanda A.   ISISE, University of Minho, Department of Civ...\n",
       "1316     Ruchti T.  Utah State University, ENGR 419J, Logan, UT  8...\n",
       "1317   Upchurch W.   Naval Undersea Warfare Center, Newport, RI, U...\n",
       "1318      Lee J.H.   Pennsylvania State University, State College,..."
      ]
     },
     "execution_count": 63,
     "metadata": {},
     "output_type": "execute_result"
    }
   ],
   "source": [
    "editor.head()"
   ]
  },
  {
   "cell_type": "code",
   "execution_count": 64,
   "id": "c7e5b3e3",
   "metadata": {},
   "outputs": [
    {
     "data": {
      "text/plain": [
       "rdflib.term.URIRef('http://xmlns.com/foaf/0.1/Person')"
      ]
     },
     "execution_count": 64,
     "metadata": {},
     "output_type": "execute_result"
    }
   ],
   "source": [
    "FOAF.Person"
   ]
  },
  {
   "cell_type": "code",
   "execution_count": 65,
   "id": "99365d93",
   "metadata": {},
   "outputs": [],
   "source": [
    "# people = URIRef(\"http://example.org/editor/Bob\") #should it be /people/academic/editor?\n",
    "# linda = BNode()  # a GUID is generated\n",
    "\n",
    "# name = Literal(\"Bob\")\n",
    "# age = Literal(24)\n",
    "\n",
    "# g.add((bob, RDF.type, FOAF.Person))\n",
    "# g.add((bob, FOAF.name, name))\n",
    "# g.add((bob, FOAF.age, age))\n",
    "# g.add((bob, FOAF.knows, linda))\n",
    "# g.add((linda, RDF.type, FOAF.Person))\n",
    "# g.add((linda, FOAF.name, Literal(\"Linda\")))\n",
    "\n",
    "# print(g.serialize())"
   ]
  },
  {
   "cell_type": "code",
   "execution_count": 66,
   "id": "4ca5ef51",
   "metadata": {},
   "outputs": [],
   "source": [
    "url = \"fadsa dadasd - \"\n"
   ]
  },
  {
   "cell_type": "code",
   "execution_count": 67,
   "id": "5e0b138c",
   "metadata": {},
   "outputs": [],
   "source": [
    "def URLparse(url:str):\n",
    "    return url.replace(\".\", \"_\").replace(\" \", \"_\")"
   ]
  },
  {
   "cell_type": "code",
   "execution_count": 68,
   "id": "c06c04a5",
   "metadata": {},
   "outputs": [],
   "source": [
    "# editor = URIRef(\"http://kg_sdm.org/Editor\")\n",
    "academic = URIRef(\"http://kg_sdm.org/Academic\")\n",
    "# person = URIRef(\"http://foaf.org/FOAF.\")\n",
    "#     academic_node = URIRef(f\"http://kg_sdm.org/Academic/{name}\")\n",
    "#     person_node = URIRef(f\"http://kg_sdm.org/Person/{name}\")\n",
    "\n",
    "for name, school in zip(editor['person_name'], editor['school_name']):\n",
    "    \n",
    "#     editor_node = URIRef(f\"http://kg_sdm.org/{URLparse(name)}\")\n",
    "    person_node = URIRef(f\"http://kg_sdm.org/Editor/{URLparse(name)}\")\n",
    "    \n",
    "    name_lit = Literal(str(name))\n",
    "    school_lit = Literal(str(school))\n",
    "\n",
    "#     g.add((editor_node, RDF.type, FOAF.Person))\n",
    "#     g.add((editor_node, FOAF.name, name_lit))\n",
    "\n",
    "#     editor_node = URIRef(f\"http://kg_sdm.org/Editor/{}\")\n",
    "    \n",
    "#     g.add((person_node, RDF.type, FOAF.Person))\n",
    "    g.add((person_node, FOAF.name, name_lit))\n",
    "    g.add((person_node, RDF.type, KG_SDM.Editor))\n",
    "    g.add((person_node, KG_SDM.school, school_lit))\n",
    "        \n",
    "#     g.add((editor_node, RDF.type, KG_SDM.Editor))\n",
    "#     g.add((editor_node, KG_SDM.school, school_lit))\n",
    "#     g.add((editor_node, FOAF.name, name_lit))"
   ]
  },
  {
   "cell_type": "code",
   "execution_count": 69,
   "id": "1768b8d7",
   "metadata": {},
   "outputs": [
    {
     "name": "stdout",
     "output_type": "stream",
     "text": [
      "[a rdfg:Graph;rdflib:storage [a rdflib:Store;rdfs:label 'Memory']].\n"
     ]
    }
   ],
   "source": [
    "print(g.serialize('abox.ttl', format=\"ttl\"))"
   ]
  },
  {
   "cell_type": "code",
   "execution_count": 70,
   "id": "b2b98eff",
   "metadata": {},
   "outputs": [
    {
     "data": {
      "text/plain": [
       "rdflib.term.URIRef('http://xmlns.com/foaf/0.1/name')"
      ]
     },
     "execution_count": 70,
     "metadata": {},
     "output_type": "execute_result"
    }
   ],
   "source": [
    "FOAF.name"
   ]
  }
 ],
 "metadata": {
  "kernelspec": {
   "display_name": "Python 3 (ipykernel)",
   "language": "python",
   "name": "python3"
  },
  "language_info": {
   "codemirror_mode": {
    "name": "ipython",
    "version": 3
   },
   "file_extension": ".py",
   "mimetype": "text/x-python",
   "name": "python",
   "nbconvert_exporter": "python",
   "pygments_lexer": "ipython3",
   "version": "3.8.10"
  }
 },
 "nbformat": 4,
 "nbformat_minor": 5
}
